{
  "nbformat": 4,
  "nbformat_minor": 0,
  "metadata": {
    "colab": {
      "provenance": [],
      "authorship_tag": "ABX9TyOvqbxFgdfT971X2Qn6IdQb",
      "include_colab_link": true
    },
    "kernelspec": {
      "name": "python3",
      "display_name": "Python 3"
    },
    "language_info": {
      "name": "python"
    }
  },
  "cells": [
    {
      "cell_type": "markdown",
      "metadata": {
        "id": "view-in-github",
        "colab_type": "text"
      },
      "source": [
        "<a href=\"https://colab.research.google.com/github/krisha218/ML-Bootcamp/blob/main/HandwrittenDigitRecognition.ipynb\" target=\"_parent\"><img src=\"https://colab.research.google.com/assets/colab-badge.svg\" alt=\"Open In Colab\"/></a>"
      ]
    },
    {
      "cell_type": "code",
      "source": [
        "from torchvision import datasets\n",
        "from torchvision.transforms import ToTensor"
      ],
      "metadata": {
        "id": "nJ69MyiJwczl"
      },
      "execution_count": 3,
      "outputs": []
    },
    {
      "cell_type": "code",
      "source": [
        "train_data = datasets.MNIST(\n",
        "    root = 'data',\n",
        "    train = True,\n",
        "    transform = ToTensor(),\n",
        "    download = True\n",
        ")\n",
        "test_data = datasets.MNIST(\n",
        "    root = 'data',\n",
        "    train = False,\n",
        "    transform = ToTensor(),\n",
        "    download = True\n",
        ")"
      ],
      "metadata": {
        "colab": {
          "base_uri": "https://localhost:8080/"
        },
        "id": "7i430T0XwjnF",
        "outputId": "e6b36b13-1abc-4cf7-fc94-ac0bb1688e88"
      },
      "execution_count": 5,
      "outputs": [
        {
          "output_type": "stream",
          "name": "stdout",
          "text": [
            "Downloading http://yann.lecun.com/exdb/mnist/train-images-idx3-ubyte.gz\n",
            "Failed to download (trying next):\n",
            "<urlopen error [SSL: CERTIFICATE_VERIFY_FAILED] certificate verify failed: certificate has expired (_ssl.c:1007)>\n",
            "\n",
            "Downloading https://ossci-datasets.s3.amazonaws.com/mnist/train-images-idx3-ubyte.gz\n",
            "Downloading https://ossci-datasets.s3.amazonaws.com/mnist/train-images-idx3-ubyte.gz to data/MNIST/raw/train-images-idx3-ubyte.gz\n"
          ]
        },
        {
          "output_type": "stream",
          "name": "stderr",
          "text": [
            "100%|██████████| 9912422/9912422 [00:00<00:00, 60496376.46it/s]\n"
          ]
        },
        {
          "output_type": "stream",
          "name": "stdout",
          "text": [
            "Extracting data/MNIST/raw/train-images-idx3-ubyte.gz to data/MNIST/raw\n",
            "\n",
            "Downloading http://yann.lecun.com/exdb/mnist/train-labels-idx1-ubyte.gz\n",
            "Failed to download (trying next):\n",
            "<urlopen error [SSL: CERTIFICATE_VERIFY_FAILED] certificate verify failed: certificate has expired (_ssl.c:1007)>\n",
            "\n",
            "Downloading https://ossci-datasets.s3.amazonaws.com/mnist/train-labels-idx1-ubyte.gz\n",
            "Downloading https://ossci-datasets.s3.amazonaws.com/mnist/train-labels-idx1-ubyte.gz to data/MNIST/raw/train-labels-idx1-ubyte.gz\n"
          ]
        },
        {
          "output_type": "stream",
          "name": "stderr",
          "text": [
            "100%|██████████| 28881/28881 [00:00<00:00, 1840436.56it/s]\n"
          ]
        },
        {
          "output_type": "stream",
          "name": "stdout",
          "text": [
            "Extracting data/MNIST/raw/train-labels-idx1-ubyte.gz to data/MNIST/raw\n",
            "\n",
            "Downloading http://yann.lecun.com/exdb/mnist/t10k-images-idx3-ubyte.gz\n",
            "Failed to download (trying next):\n",
            "<urlopen error [SSL: CERTIFICATE_VERIFY_FAILED] certificate verify failed: certificate has expired (_ssl.c:1007)>\n",
            "\n",
            "Downloading https://ossci-datasets.s3.amazonaws.com/mnist/t10k-images-idx3-ubyte.gz\n",
            "Downloading https://ossci-datasets.s3.amazonaws.com/mnist/t10k-images-idx3-ubyte.gz to data/MNIST/raw/t10k-images-idx3-ubyte.gz\n"
          ]
        },
        {
          "output_type": "stream",
          "name": "stderr",
          "text": [
            "100%|██████████| 1648877/1648877 [00:00<00:00, 14918667.39it/s]\n"
          ]
        },
        {
          "output_type": "stream",
          "name": "stdout",
          "text": [
            "Extracting data/MNIST/raw/t10k-images-idx3-ubyte.gz to data/MNIST/raw\n",
            "\n",
            "Downloading http://yann.lecun.com/exdb/mnist/t10k-labels-idx1-ubyte.gz\n",
            "Failed to download (trying next):\n",
            "<urlopen error [SSL: CERTIFICATE_VERIFY_FAILED] certificate verify failed: certificate has expired (_ssl.c:1007)>\n",
            "\n",
            "Downloading https://ossci-datasets.s3.amazonaws.com/mnist/t10k-labels-idx1-ubyte.gz\n",
            "Downloading https://ossci-datasets.s3.amazonaws.com/mnist/t10k-labels-idx1-ubyte.gz to data/MNIST/raw/t10k-labels-idx1-ubyte.gz\n"
          ]
        },
        {
          "output_type": "stream",
          "name": "stderr",
          "text": [
            "100%|██████████| 4542/4542 [00:00<00:00, 5840137.57it/s]"
          ]
        },
        {
          "output_type": "stream",
          "name": "stdout",
          "text": [
            "Extracting data/MNIST/raw/t10k-labels-idx1-ubyte.gz to data/MNIST/raw\n",
            "\n"
          ]
        },
        {
          "output_type": "stream",
          "name": "stderr",
          "text": [
            "\n"
          ]
        }
      ]
    },
    {
      "cell_type": "code",
      "source": [
        "train_data"
      ],
      "metadata": {
        "colab": {
          "base_uri": "https://localhost:8080/"
        },
        "id": "MHi1Xt0FxMLD",
        "outputId": "4db5f65d-df15-40ea-c011-3b6eab623a42"
      },
      "execution_count": 6,
      "outputs": [
        {
          "output_type": "execute_result",
          "data": {
            "text/plain": [
              "Dataset MNIST\n",
              "    Number of datapoints: 60000\n",
              "    Root location: data\n",
              "    Split: Train\n",
              "    StandardTransform\n",
              "Transform: ToTensor()"
            ]
          },
          "metadata": {},
          "execution_count": 6
        }
      ]
    },
    {
      "cell_type": "code",
      "source": [
        "test_data"
      ],
      "metadata": {
        "colab": {
          "base_uri": "https://localhost:8080/"
        },
        "id": "S-cJy0FbxRyw",
        "outputId": "ad01605d-dc58-40c4-f44e-1966e8310257"
      },
      "execution_count": 7,
      "outputs": [
        {
          "output_type": "execute_result",
          "data": {
            "text/plain": [
              "Dataset MNIST\n",
              "    Number of datapoints: 10000\n",
              "    Root location: data\n",
              "    Split: Test\n",
              "    StandardTransform\n",
              "Transform: ToTensor()"
            ]
          },
          "metadata": {},
          "execution_count": 7
        }
      ]
    },
    {
      "cell_type": "code",
      "source": [
        "train_data.data"
      ],
      "metadata": {
        "colab": {
          "base_uri": "https://localhost:8080/"
        },
        "id": "yOAc5E0JxUxZ",
        "outputId": "d2b64dbe-dcd2-4073-9155-d4ac96cedb59"
      },
      "execution_count": 8,
      "outputs": [
        {
          "output_type": "execute_result",
          "data": {
            "text/plain": [
              "tensor([[[0, 0, 0,  ..., 0, 0, 0],\n",
              "         [0, 0, 0,  ..., 0, 0, 0],\n",
              "         [0, 0, 0,  ..., 0, 0, 0],\n",
              "         ...,\n",
              "         [0, 0, 0,  ..., 0, 0, 0],\n",
              "         [0, 0, 0,  ..., 0, 0, 0],\n",
              "         [0, 0, 0,  ..., 0, 0, 0]],\n",
              "\n",
              "        [[0, 0, 0,  ..., 0, 0, 0],\n",
              "         [0, 0, 0,  ..., 0, 0, 0],\n",
              "         [0, 0, 0,  ..., 0, 0, 0],\n",
              "         ...,\n",
              "         [0, 0, 0,  ..., 0, 0, 0],\n",
              "         [0, 0, 0,  ..., 0, 0, 0],\n",
              "         [0, 0, 0,  ..., 0, 0, 0]],\n",
              "\n",
              "        [[0, 0, 0,  ..., 0, 0, 0],\n",
              "         [0, 0, 0,  ..., 0, 0, 0],\n",
              "         [0, 0, 0,  ..., 0, 0, 0],\n",
              "         ...,\n",
              "         [0, 0, 0,  ..., 0, 0, 0],\n",
              "         [0, 0, 0,  ..., 0, 0, 0],\n",
              "         [0, 0, 0,  ..., 0, 0, 0]],\n",
              "\n",
              "        ...,\n",
              "\n",
              "        [[0, 0, 0,  ..., 0, 0, 0],\n",
              "         [0, 0, 0,  ..., 0, 0, 0],\n",
              "         [0, 0, 0,  ..., 0, 0, 0],\n",
              "         ...,\n",
              "         [0, 0, 0,  ..., 0, 0, 0],\n",
              "         [0, 0, 0,  ..., 0, 0, 0],\n",
              "         [0, 0, 0,  ..., 0, 0, 0]],\n",
              "\n",
              "        [[0, 0, 0,  ..., 0, 0, 0],\n",
              "         [0, 0, 0,  ..., 0, 0, 0],\n",
              "         [0, 0, 0,  ..., 0, 0, 0],\n",
              "         ...,\n",
              "         [0, 0, 0,  ..., 0, 0, 0],\n",
              "         [0, 0, 0,  ..., 0, 0, 0],\n",
              "         [0, 0, 0,  ..., 0, 0, 0]],\n",
              "\n",
              "        [[0, 0, 0,  ..., 0, 0, 0],\n",
              "         [0, 0, 0,  ..., 0, 0, 0],\n",
              "         [0, 0, 0,  ..., 0, 0, 0],\n",
              "         ...,\n",
              "         [0, 0, 0,  ..., 0, 0, 0],\n",
              "         [0, 0, 0,  ..., 0, 0, 0],\n",
              "         [0, 0, 0,  ..., 0, 0, 0]]], dtype=torch.uint8)"
            ]
          },
          "metadata": {},
          "execution_count": 8
        }
      ]
    },
    {
      "cell_type": "code",
      "source": [
        "train_data.data.shape"
      ],
      "metadata": {
        "colab": {
          "base_uri": "https://localhost:8080/"
        },
        "id": "7sjLMksbxYgg",
        "outputId": "53fcec1a-a8ce-4f86-d20c-66e900f7052f"
      },
      "execution_count": 10,
      "outputs": [
        {
          "output_type": "execute_result",
          "data": {
            "text/plain": [
              "torch.Size([60000, 28, 28])"
            ]
          },
          "metadata": {},
          "execution_count": 10
        }
      ]
    },
    {
      "cell_type": "code",
      "source": [
        "test_data.data.shape"
      ],
      "metadata": {
        "colab": {
          "base_uri": "https://localhost:8080/"
        },
        "id": "EztoSMdoxiqj",
        "outputId": "0b11ae43-d379-4bb8-f768-72a3f4e675ab"
      },
      "execution_count": 11,
      "outputs": [
        {
          "output_type": "execute_result",
          "data": {
            "text/plain": [
              "torch.Size([10000, 28, 28])"
            ]
          },
          "metadata": {},
          "execution_count": 11
        }
      ]
    },
    {
      "cell_type": "code",
      "source": [
        "train_data.targets.size()"
      ],
      "metadata": {
        "colab": {
          "base_uri": "https://localhost:8080/"
        },
        "id": "Q8u8h1sNxyaM",
        "outputId": "5eed4c4e-d157-4974-e8aa-e1b484e634c3"
      },
      "execution_count": 12,
      "outputs": [
        {
          "output_type": "execute_result",
          "data": {
            "text/plain": [
              "torch.Size([60000])"
            ]
          },
          "metadata": {},
          "execution_count": 12
        }
      ]
    },
    {
      "cell_type": "code",
      "source": [
        "train_data.targets\n"
      ],
      "metadata": {
        "colab": {
          "base_uri": "https://localhost:8080/"
        },
        "id": "epP_ibkvx5MS",
        "outputId": "b75321d7-1c0f-4b0b-ad1a-530a8b4118d0"
      },
      "execution_count": 13,
      "outputs": [
        {
          "output_type": "execute_result",
          "data": {
            "text/plain": [
              "tensor([5, 0, 4,  ..., 5, 6, 8])"
            ]
          },
          "metadata": {},
          "execution_count": 13
        }
      ]
    },
    {
      "cell_type": "code",
      "source": [
        "from torch.utils.data import DataLoader\n",
        "loaders = {\n",
        "    'train': DataLoader(train_data, batch_size = 100,\n",
        "                        shuffle = True,\n",
        "                        num_workers = 1),\n",
        "    'test': DataLoader(test_data,\n",
        "                       batch_size = 100,\n",
        "                       shuffle = True,\n",
        "                       num_workers = 1)\n",
        "}"
      ],
      "metadata": {
        "id": "eVT7ns5MyJZ_"
      },
      "execution_count": 17,
      "outputs": []
    },
    {
      "cell_type": "code",
      "source": [
        "loaders"
      ],
      "metadata": {
        "colab": {
          "base_uri": "https://localhost:8080/"
        },
        "id": "pY2wIXGqyzTl",
        "outputId": "10047af5-d6d8-476e-8532-82bb5078f77a"
      },
      "execution_count": 18,
      "outputs": [
        {
          "output_type": "execute_result",
          "data": {
            "text/plain": [
              "{'train': <torch.utils.data.dataloader.DataLoader at 0x7b79e3512e90>,\n",
              " 'test': <torch.utils.data.dataloader.DataLoader at 0x7b79e3512140>}"
            ]
          },
          "metadata": {},
          "execution_count": 18
        }
      ]
    },
    {
      "cell_type": "code",
      "source": [
        "import torch\n",
        "import torch.nn as nn\n",
        "import torch.nn.functional as F\n",
        "import torch.optim as optim\n",
        "\n",
        "class CNN(nn.Module):\n",
        "    def __init__(self):\n",
        "        super(CNN, self).__init__()\n",
        "\n",
        "        self.conv1 = nn.Conv2d(1, 10, kernel_size=5)\n",
        "        self.conv2 = nn.Conv2d(10, 20, kernel_size=5)\n",
        "        self.conv2_drop = nn.Dropout2d()\n",
        "        self.fc1 = nn.Linear(320, 50)\n",
        "        self.fc2 = nn.Linear(50, 10)\n",
        "\n",
        "    def forward(self, x):\n",
        "        x = F.relu(F.max_pool2d(self.conv1(x), kernel_size=2))\n",
        "        # Added kernel_size=2 to the second max_pool2d call\n",
        "        x = F.relu(F.max_pool2d(self.conv2_drop(self.conv2(x)), kernel_size=2))\n",
        "        x = x.view(-1, 320)\n",
        "        x = F.relu(self.fc1(x))\n",
        "        x = F.dropout(x, training=self.training)\n",
        "        x = self.fc2(x)\n",
        "        return F.log_softmax(x, dim=1)"
      ],
      "metadata": {
        "id": "syGQSLs6y5AD"
      },
      "execution_count": 37,
      "outputs": []
    },
    {
      "cell_type": "markdown",
      "source": [],
      "metadata": {
        "id": "IkY72l2GzdAV"
      }
    },
    {
      "cell_type": "code",
      "source": [
        "import torch\n",
        "import torch.nn as nn\n",
        "import torch.nn.functional as F\n",
        "import torch.optim as optim\n",
        "\n",
        "class CNN(nn.Module):\n",
        "    def __init__(self):\n",
        "        super(CNN, self).__init__()\n",
        "\n",
        "        self.conv1 = nn.Conv2d(1, 10, kernel_size=5)\n",
        "        self.conv2 = nn.Conv2d(10, 20, kernel_size=5)\n",
        "        self.conv2_drop = nn.Dropout2d()\n",
        "        self.fc1 = nn.Linear(320, 50)\n",
        "        self.fc2 = nn.Linear(50, 10)\n",
        "\n",
        "    def forward(self, x):\n",
        "        x = F.relu(F.max_pool2d(self.conv1(x), kernel_size=2))  # kernel_size provided for the first max_pool2d\n",
        "        x = F.relu(F.max_pool2d(self.conv2_drop(self.conv2(x)), kernel_size=2))  # kernel_size provided for the second max_pool2d\n",
        "        x = x.view(-1, 320)\n",
        "        x = F.relu(self.fc1(x))\n",
        "        x = F.dropout(x, training=self.training)\n",
        "        x = self.fc2(x)\n",
        "        return F.log_softmax(x, dim=1)\n",
        "\n",
        "import torch\n",
        "import torch.optim as optim\n",
        "import torch.nn as nn\n",
        "\n",
        "device = torch.device('cuda' if torch.cuda.is_available() else 'cpu')\n",
        "model = CNN().to(device)\n",
        "\n",
        "optimizer = optim.Adam(model.parameters(), lr=0.001)\n",
        "\n",
        "loss_fn = nn.CrossEntropyLoss()\n",
        "\n",
        "def train(epoch):\n",
        "    model.train()\n",
        "    for batch_idx, (data, target) in enumerate(loaders['train']):\n",
        "        data, target = data.to(device), target.to(device)\n",
        "        optimizer.zero_grad()\n",
        "        output = model(data)\n",
        "        loss = loss_fn(output, target)\n",
        "        loss.backward()\n",
        "        optimizer.step()\n",
        "\n",
        "        if batch_idx % 20 == 0:\n",
        "            print(f'Train Epoch: {epoch} '\n",
        "                  f'[{batch_idx * len(data)}/{len(loaders[\"train\"].dataset)} '\n",
        "                  f'({100. * batch_idx / len(loaders[\"train\"]):.0f}%)] '\n",
        "                  f'Loss: {loss.item():.6f}')\n",
        "\n",
        "def test():\n",
        "    model.eval()\n",
        "    test_loss = 0\n",
        "    correct = 0\n",
        "\n",
        "    with torch.no_grad():\n",
        "        for data, target in loaders['test']:\n",
        "            data, target = data.to(device), target.to(device)\n",
        "            output = model(data)\n",
        "            test_loss += loss_fn(output, target).item()\n",
        "            pred = output.argmax(dim=1, keepdim=True)\n",
        "            correct += pred.eq(target.view_as(pred)).sum().item()\n",
        "\n",
        "    test_loss /= len(loaders['test'].dataset)\n",
        "    print(f'\\nTest set: Average loss: {test_loss:.4f}, Accuracy: {correct}/{len(loaders[\"test\"].dataset)} '\n",
        "          f'({100. * correct / len(loaders[\"test\"].dataset):.0f}%)')\n",
        "\n",
        "\n"
      ],
      "metadata": {
        "id": "VSbBnZTv0fh9"
      },
      "execution_count": 41,
      "outputs": []
    },
    {
      "cell_type": "code",
      "source": [],
      "metadata": {
        "id": "UIm8S5gv63xt"
      },
      "execution_count": null,
      "outputs": []
    },
    {
      "cell_type": "code",
      "source": [
        "for epoch in range(1,11):\n",
        "  train(epoch)\n",
        "  test()"
      ],
      "metadata": {
        "colab": {
          "base_uri": "https://localhost:8080/"
        },
        "id": "0LW9S_Tg42WB",
        "outputId": "de60c153-312f-4394-fedd-d8db36a3b368"
      },
      "execution_count": 42,
      "outputs": [
        {
          "output_type": "stream",
          "name": "stdout",
          "text": [
            "Train Epoch: 1 [0/60000 (0%)] Loss: 2.303927\n",
            "Train Epoch: 1 [2000/60000 (3%)] Loss: 2.250831\n",
            "Train Epoch: 1 [4000/60000 (7%)] Loss: 1.755435\n",
            "Train Epoch: 1 [6000/60000 (10%)] Loss: 1.378603\n",
            "Train Epoch: 1 [8000/60000 (13%)] Loss: 1.027004\n",
            "Train Epoch: 1 [10000/60000 (17%)] Loss: 0.955070\n",
            "Train Epoch: 1 [12000/60000 (20%)] Loss: 0.703615\n",
            "Train Epoch: 1 [14000/60000 (23%)] Loss: 0.879960\n",
            "Train Epoch: 1 [16000/60000 (27%)] Loss: 0.742081\n",
            "Train Epoch: 1 [18000/60000 (30%)] Loss: 0.509349\n",
            "Train Epoch: 1 [20000/60000 (33%)] Loss: 0.662479\n",
            "Train Epoch: 1 [22000/60000 (37%)] Loss: 0.555038\n",
            "Train Epoch: 1 [24000/60000 (40%)] Loss: 0.459816\n",
            "Train Epoch: 1 [26000/60000 (43%)] Loss: 0.722675\n",
            "Train Epoch: 1 [28000/60000 (47%)] Loss: 0.445579\n",
            "Train Epoch: 1 [30000/60000 (50%)] Loss: 0.423318\n",
            "Train Epoch: 1 [32000/60000 (53%)] Loss: 0.609819\n",
            "Train Epoch: 1 [34000/60000 (57%)] Loss: 0.397368\n",
            "Train Epoch: 1 [36000/60000 (60%)] Loss: 0.775317\n",
            "Train Epoch: 1 [38000/60000 (63%)] Loss: 0.426463\n",
            "Train Epoch: 1 [40000/60000 (67%)] Loss: 0.489097\n",
            "Train Epoch: 1 [42000/60000 (70%)] Loss: 0.612390\n",
            "Train Epoch: 1 [44000/60000 (73%)] Loss: 0.219805\n",
            "Train Epoch: 1 [46000/60000 (77%)] Loss: 0.429112\n",
            "Train Epoch: 1 [48000/60000 (80%)] Loss: 0.425322\n",
            "Train Epoch: 1 [50000/60000 (83%)] Loss: 0.446903\n",
            "Train Epoch: 1 [52000/60000 (87%)] Loss: 0.318476\n",
            "Train Epoch: 1 [54000/60000 (90%)] Loss: 0.377793\n",
            "Train Epoch: 1 [56000/60000 (93%)] Loss: 0.672561\n",
            "Train Epoch: 1 [58000/60000 (97%)] Loss: 0.354669\n",
            "\n",
            "Test set: Average loss: 0.0014, Accuracy: 9567/10000 (96%)\n",
            "Train Epoch: 2 [0/60000 (0%)] Loss: 0.356077\n",
            "Train Epoch: 2 [2000/60000 (3%)] Loss: 0.341298\n",
            "Train Epoch: 2 [4000/60000 (7%)] Loss: 0.342471\n",
            "Train Epoch: 2 [6000/60000 (10%)] Loss: 0.326168\n",
            "Train Epoch: 2 [8000/60000 (13%)] Loss: 0.239388\n",
            "Train Epoch: 2 [10000/60000 (17%)] Loss: 0.309968\n",
            "Train Epoch: 2 [12000/60000 (20%)] Loss: 0.335700\n",
            "Train Epoch: 2 [14000/60000 (23%)] Loss: 0.313609\n",
            "Train Epoch: 2 [16000/60000 (27%)] Loss: 0.260014\n",
            "Train Epoch: 2 [18000/60000 (30%)] Loss: 0.421470\n",
            "Train Epoch: 2 [20000/60000 (33%)] Loss: 0.185112\n",
            "Train Epoch: 2 [22000/60000 (37%)] Loss: 0.547852\n",
            "Train Epoch: 2 [24000/60000 (40%)] Loss: 0.444766\n",
            "Train Epoch: 2 [26000/60000 (43%)] Loss: 0.268282\n",
            "Train Epoch: 2 [28000/60000 (47%)] Loss: 0.495986\n",
            "Train Epoch: 2 [30000/60000 (50%)] Loss: 0.217653\n",
            "Train Epoch: 2 [32000/60000 (53%)] Loss: 0.450597\n",
            "Train Epoch: 2 [34000/60000 (57%)] Loss: 0.204922\n",
            "Train Epoch: 2 [36000/60000 (60%)] Loss: 0.307156\n",
            "Train Epoch: 2 [38000/60000 (63%)] Loss: 0.294997\n",
            "Train Epoch: 2 [40000/60000 (67%)] Loss: 0.252476\n",
            "Train Epoch: 2 [42000/60000 (70%)] Loss: 0.246317\n",
            "Train Epoch: 2 [44000/60000 (73%)] Loss: 0.239307\n",
            "Train Epoch: 2 [46000/60000 (77%)] Loss: 0.358678\n",
            "Train Epoch: 2 [48000/60000 (80%)] Loss: 0.586825\n",
            "Train Epoch: 2 [50000/60000 (83%)] Loss: 0.277887\n",
            "Train Epoch: 2 [52000/60000 (87%)] Loss: 0.411777\n",
            "Train Epoch: 2 [54000/60000 (90%)] Loss: 0.300102\n",
            "Train Epoch: 2 [56000/60000 (93%)] Loss: 0.349367\n",
            "Train Epoch: 2 [58000/60000 (97%)] Loss: 0.318810\n",
            "\n",
            "Test set: Average loss: 0.0010, Accuracy: 9691/10000 (97%)\n",
            "Train Epoch: 3 [0/60000 (0%)] Loss: 0.283157\n",
            "Train Epoch: 3 [2000/60000 (3%)] Loss: 0.238074\n",
            "Train Epoch: 3 [4000/60000 (7%)] Loss: 0.346567\n",
            "Train Epoch: 3 [6000/60000 (10%)] Loss: 0.204993\n",
            "Train Epoch: 3 [8000/60000 (13%)] Loss: 0.219964\n",
            "Train Epoch: 3 [10000/60000 (17%)] Loss: 0.265096\n",
            "Train Epoch: 3 [12000/60000 (20%)] Loss: 0.232611\n",
            "Train Epoch: 3 [14000/60000 (23%)] Loss: 0.369125\n",
            "Train Epoch: 3 [16000/60000 (27%)] Loss: 0.316546\n",
            "Train Epoch: 3 [18000/60000 (30%)] Loss: 0.157435\n",
            "Train Epoch: 3 [20000/60000 (33%)] Loss: 0.360975\n",
            "Train Epoch: 3 [22000/60000 (37%)] Loss: 0.203134\n",
            "Train Epoch: 3 [24000/60000 (40%)] Loss: 0.193323\n",
            "Train Epoch: 3 [26000/60000 (43%)] Loss: 0.343345\n",
            "Train Epoch: 3 [28000/60000 (47%)] Loss: 0.157482\n",
            "Train Epoch: 3 [30000/60000 (50%)] Loss: 0.173317\n",
            "Train Epoch: 3 [32000/60000 (53%)] Loss: 0.327297\n",
            "Train Epoch: 3 [34000/60000 (57%)] Loss: 0.259509\n",
            "Train Epoch: 3 [36000/60000 (60%)] Loss: 0.106725\n",
            "Train Epoch: 3 [38000/60000 (63%)] Loss: 0.168466\n",
            "Train Epoch: 3 [40000/60000 (67%)] Loss: 0.269665\n",
            "Train Epoch: 3 [42000/60000 (70%)] Loss: 0.339648\n",
            "Train Epoch: 3 [44000/60000 (73%)] Loss: 0.158922\n",
            "Train Epoch: 3 [46000/60000 (77%)] Loss: 0.330617\n",
            "Train Epoch: 3 [48000/60000 (80%)] Loss: 0.200809\n",
            "Train Epoch: 3 [50000/60000 (83%)] Loss: 0.198428\n",
            "Train Epoch: 3 [52000/60000 (87%)] Loss: 0.249423\n",
            "Train Epoch: 3 [54000/60000 (90%)] Loss: 0.266676\n",
            "Train Epoch: 3 [56000/60000 (93%)] Loss: 0.092305\n",
            "Train Epoch: 3 [58000/60000 (97%)] Loss: 0.183719\n",
            "\n",
            "Test set: Average loss: 0.0008, Accuracy: 9726/10000 (97%)\n",
            "Train Epoch: 4 [0/60000 (0%)] Loss: 0.253464\n",
            "Train Epoch: 4 [2000/60000 (3%)] Loss: 0.133079\n",
            "Train Epoch: 4 [4000/60000 (7%)] Loss: 0.261282\n",
            "Train Epoch: 4 [6000/60000 (10%)] Loss: 0.264538\n",
            "Train Epoch: 4 [8000/60000 (13%)] Loss: 0.254820\n",
            "Train Epoch: 4 [10000/60000 (17%)] Loss: 0.405405\n",
            "Train Epoch: 4 [12000/60000 (20%)] Loss: 0.130471\n",
            "Train Epoch: 4 [14000/60000 (23%)] Loss: 0.204944\n",
            "Train Epoch: 4 [16000/60000 (27%)] Loss: 0.138929\n",
            "Train Epoch: 4 [18000/60000 (30%)] Loss: 0.189717\n",
            "Train Epoch: 4 [20000/60000 (33%)] Loss: 0.353448\n",
            "Train Epoch: 4 [22000/60000 (37%)] Loss: 0.252898\n",
            "Train Epoch: 4 [24000/60000 (40%)] Loss: 0.207747\n",
            "Train Epoch: 4 [26000/60000 (43%)] Loss: 0.168040\n",
            "Train Epoch: 4 [28000/60000 (47%)] Loss: 0.253369\n",
            "Train Epoch: 4 [30000/60000 (50%)] Loss: 0.191398\n",
            "Train Epoch: 4 [32000/60000 (53%)] Loss: 0.382853\n",
            "Train Epoch: 4 [34000/60000 (57%)] Loss: 0.169891\n",
            "Train Epoch: 4 [36000/60000 (60%)] Loss: 0.244988\n",
            "Train Epoch: 4 [38000/60000 (63%)] Loss: 0.235315\n",
            "Train Epoch: 4 [40000/60000 (67%)] Loss: 0.171518\n",
            "Train Epoch: 4 [42000/60000 (70%)] Loss: 0.226089\n",
            "Train Epoch: 4 [44000/60000 (73%)] Loss: 0.264032\n",
            "Train Epoch: 4 [46000/60000 (77%)] Loss: 0.277540\n",
            "Train Epoch: 4 [48000/60000 (80%)] Loss: 0.261965\n",
            "Train Epoch: 4 [50000/60000 (83%)] Loss: 0.240824\n",
            "Train Epoch: 4 [52000/60000 (87%)] Loss: 0.253374\n",
            "Train Epoch: 4 [54000/60000 (90%)] Loss: 0.186779\n",
            "Train Epoch: 4 [56000/60000 (93%)] Loss: 0.414485\n",
            "Train Epoch: 4 [58000/60000 (97%)] Loss: 0.122676\n",
            "\n",
            "Test set: Average loss: 0.0007, Accuracy: 9770/10000 (98%)\n",
            "Train Epoch: 5 [0/60000 (0%)] Loss: 0.161681\n",
            "Train Epoch: 5 [2000/60000 (3%)] Loss: 0.245686\n",
            "Train Epoch: 5 [4000/60000 (7%)] Loss: 0.312631\n",
            "Train Epoch: 5 [6000/60000 (10%)] Loss: 0.427033\n",
            "Train Epoch: 5 [8000/60000 (13%)] Loss: 0.087071\n",
            "Train Epoch: 5 [10000/60000 (17%)] Loss: 0.157352\n",
            "Train Epoch: 5 [12000/60000 (20%)] Loss: 0.200361\n",
            "Train Epoch: 5 [14000/60000 (23%)] Loss: 0.201322\n",
            "Train Epoch: 5 [16000/60000 (27%)] Loss: 0.330080\n",
            "Train Epoch: 5 [18000/60000 (30%)] Loss: 0.201131\n",
            "Train Epoch: 5 [20000/60000 (33%)] Loss: 0.108564\n",
            "Train Epoch: 5 [22000/60000 (37%)] Loss: 0.304853\n",
            "Train Epoch: 5 [24000/60000 (40%)] Loss: 0.184141\n",
            "Train Epoch: 5 [26000/60000 (43%)] Loss: 0.224805\n",
            "Train Epoch: 5 [28000/60000 (47%)] Loss: 0.235670\n",
            "Train Epoch: 5 [30000/60000 (50%)] Loss: 0.239892\n",
            "Train Epoch: 5 [32000/60000 (53%)] Loss: 0.194300\n",
            "Train Epoch: 5 [34000/60000 (57%)] Loss: 0.053616\n",
            "Train Epoch: 5 [36000/60000 (60%)] Loss: 0.257057\n",
            "Train Epoch: 5 [38000/60000 (63%)] Loss: 0.219738\n",
            "Train Epoch: 5 [40000/60000 (67%)] Loss: 0.098673\n",
            "Train Epoch: 5 [42000/60000 (70%)] Loss: 0.239591\n",
            "Train Epoch: 5 [44000/60000 (73%)] Loss: 0.189478\n",
            "Train Epoch: 5 [46000/60000 (77%)] Loss: 0.196801\n",
            "Train Epoch: 5 [48000/60000 (80%)] Loss: 0.194113\n",
            "Train Epoch: 5 [50000/60000 (83%)] Loss: 0.199000\n",
            "Train Epoch: 5 [52000/60000 (87%)] Loss: 0.261159\n",
            "Train Epoch: 5 [54000/60000 (90%)] Loss: 0.153199\n",
            "Train Epoch: 5 [56000/60000 (93%)] Loss: 0.243717\n",
            "Train Epoch: 5 [58000/60000 (97%)] Loss: 0.215653\n",
            "\n",
            "Test set: Average loss: 0.0006, Accuracy: 9798/10000 (98%)\n",
            "Train Epoch: 6 [0/60000 (0%)] Loss: 0.155652\n",
            "Train Epoch: 6 [2000/60000 (3%)] Loss: 0.197660\n",
            "Train Epoch: 6 [4000/60000 (7%)] Loss: 0.259744\n",
            "Train Epoch: 6 [6000/60000 (10%)] Loss: 0.234894\n",
            "Train Epoch: 6 [8000/60000 (13%)] Loss: 0.155405\n",
            "Train Epoch: 6 [10000/60000 (17%)] Loss: 0.141581\n",
            "Train Epoch: 6 [12000/60000 (20%)] Loss: 0.362381\n",
            "Train Epoch: 6 [14000/60000 (23%)] Loss: 0.084729\n",
            "Train Epoch: 6 [16000/60000 (27%)] Loss: 0.130085\n",
            "Train Epoch: 6 [18000/60000 (30%)] Loss: 0.276096\n",
            "Train Epoch: 6 [20000/60000 (33%)] Loss: 0.236967\n",
            "Train Epoch: 6 [22000/60000 (37%)] Loss: 0.258590\n",
            "Train Epoch: 6 [24000/60000 (40%)] Loss: 0.155445\n",
            "Train Epoch: 6 [26000/60000 (43%)] Loss: 0.146216\n",
            "Train Epoch: 6 [28000/60000 (47%)] Loss: 0.231045\n",
            "Train Epoch: 6 [30000/60000 (50%)] Loss: 0.257765\n",
            "Train Epoch: 6 [32000/60000 (53%)] Loss: 0.301675\n",
            "Train Epoch: 6 [34000/60000 (57%)] Loss: 0.261947\n",
            "Train Epoch: 6 [36000/60000 (60%)] Loss: 0.236110\n",
            "Train Epoch: 6 [38000/60000 (63%)] Loss: 0.083726\n",
            "Train Epoch: 6 [40000/60000 (67%)] Loss: 0.212308\n",
            "Train Epoch: 6 [42000/60000 (70%)] Loss: 0.351766\n",
            "Train Epoch: 6 [44000/60000 (73%)] Loss: 0.125424\n",
            "Train Epoch: 6 [46000/60000 (77%)] Loss: 0.100070\n",
            "Train Epoch: 6 [48000/60000 (80%)] Loss: 0.109178\n",
            "Train Epoch: 6 [50000/60000 (83%)] Loss: 0.140746\n",
            "Train Epoch: 6 [52000/60000 (87%)] Loss: 0.207189\n",
            "Train Epoch: 6 [54000/60000 (90%)] Loss: 0.221212\n",
            "Train Epoch: 6 [56000/60000 (93%)] Loss: 0.293585\n",
            "Train Epoch: 6 [58000/60000 (97%)] Loss: 0.141384\n",
            "\n",
            "Test set: Average loss: 0.0006, Accuracy: 9828/10000 (98%)\n",
            "Train Epoch: 7 [0/60000 (0%)] Loss: 0.149736\n",
            "Train Epoch: 7 [2000/60000 (3%)] Loss: 0.172945\n",
            "Train Epoch: 7 [4000/60000 (7%)] Loss: 0.119447\n",
            "Train Epoch: 7 [6000/60000 (10%)] Loss: 0.168234\n",
            "Train Epoch: 7 [8000/60000 (13%)] Loss: 0.079947\n",
            "Train Epoch: 7 [10000/60000 (17%)] Loss: 0.141104\n",
            "Train Epoch: 7 [12000/60000 (20%)] Loss: 0.104748\n",
            "Train Epoch: 7 [14000/60000 (23%)] Loss: 0.060477\n",
            "Train Epoch: 7 [16000/60000 (27%)] Loss: 0.096357\n",
            "Train Epoch: 7 [18000/60000 (30%)] Loss: 0.122097\n",
            "Train Epoch: 7 [20000/60000 (33%)] Loss: 0.123855\n",
            "Train Epoch: 7 [22000/60000 (37%)] Loss: 0.200833\n",
            "Train Epoch: 7 [24000/60000 (40%)] Loss: 0.322318\n",
            "Train Epoch: 7 [26000/60000 (43%)] Loss: 0.251939\n",
            "Train Epoch: 7 [28000/60000 (47%)] Loss: 0.159802\n",
            "Train Epoch: 7 [30000/60000 (50%)] Loss: 0.158881\n",
            "Train Epoch: 7 [32000/60000 (53%)] Loss: 0.118546\n",
            "Train Epoch: 7 [34000/60000 (57%)] Loss: 0.101898\n",
            "Train Epoch: 7 [36000/60000 (60%)] Loss: 0.203120\n",
            "Train Epoch: 7 [38000/60000 (63%)] Loss: 0.128465\n",
            "Train Epoch: 7 [40000/60000 (67%)] Loss: 0.265528\n",
            "Train Epoch: 7 [42000/60000 (70%)] Loss: 0.350271\n",
            "Train Epoch: 7 [44000/60000 (73%)] Loss: 0.163133\n",
            "Train Epoch: 7 [46000/60000 (77%)] Loss: 0.281489\n",
            "Train Epoch: 7 [48000/60000 (80%)] Loss: 0.132423\n",
            "Train Epoch: 7 [50000/60000 (83%)] Loss: 0.127974\n",
            "Train Epoch: 7 [52000/60000 (87%)] Loss: 0.187347\n",
            "Train Epoch: 7 [54000/60000 (90%)] Loss: 0.257962\n",
            "Train Epoch: 7 [56000/60000 (93%)] Loss: 0.113883\n",
            "Train Epoch: 7 [58000/60000 (97%)] Loss: 0.114844\n",
            "\n",
            "Test set: Average loss: 0.0005, Accuracy: 9834/10000 (98%)\n",
            "Train Epoch: 8 [0/60000 (0%)] Loss: 0.087118\n",
            "Train Epoch: 8 [2000/60000 (3%)] Loss: 0.120357\n",
            "Train Epoch: 8 [4000/60000 (7%)] Loss: 0.050135\n",
            "Train Epoch: 8 [6000/60000 (10%)] Loss: 0.061468\n",
            "Train Epoch: 8 [8000/60000 (13%)] Loss: 0.179333\n",
            "Train Epoch: 8 [10000/60000 (17%)] Loss: 0.111421\n",
            "Train Epoch: 8 [12000/60000 (20%)] Loss: 0.253594\n",
            "Train Epoch: 8 [14000/60000 (23%)] Loss: 0.146797\n",
            "Train Epoch: 8 [16000/60000 (27%)] Loss: 0.264200\n",
            "Train Epoch: 8 [18000/60000 (30%)] Loss: 0.074580\n",
            "Train Epoch: 8 [20000/60000 (33%)] Loss: 0.190009\n",
            "Train Epoch: 8 [22000/60000 (37%)] Loss: 0.144999\n",
            "Train Epoch: 8 [24000/60000 (40%)] Loss: 0.155422\n",
            "Train Epoch: 8 [26000/60000 (43%)] Loss: 0.105021\n",
            "Train Epoch: 8 [28000/60000 (47%)] Loss: 0.147474\n",
            "Train Epoch: 8 [30000/60000 (50%)] Loss: 0.220049\n",
            "Train Epoch: 8 [32000/60000 (53%)] Loss: 0.086839\n",
            "Train Epoch: 8 [34000/60000 (57%)] Loss: 0.178125\n",
            "Train Epoch: 8 [36000/60000 (60%)] Loss: 0.147591\n",
            "Train Epoch: 8 [38000/60000 (63%)] Loss: 0.125099\n",
            "Train Epoch: 8 [40000/60000 (67%)] Loss: 0.074016\n",
            "Train Epoch: 8 [42000/60000 (70%)] Loss: 0.273491\n",
            "Train Epoch: 8 [44000/60000 (73%)] Loss: 0.194152\n",
            "Train Epoch: 8 [46000/60000 (77%)] Loss: 0.208376\n",
            "Train Epoch: 8 [48000/60000 (80%)] Loss: 0.220513\n",
            "Train Epoch: 8 [50000/60000 (83%)] Loss: 0.095045\n",
            "Train Epoch: 8 [52000/60000 (87%)] Loss: 0.114408\n",
            "Train Epoch: 8 [54000/60000 (90%)] Loss: 0.255936\n",
            "Train Epoch: 8 [56000/60000 (93%)] Loss: 0.135049\n",
            "Train Epoch: 8 [58000/60000 (97%)] Loss: 0.137753\n",
            "\n",
            "Test set: Average loss: 0.0005, Accuracy: 9848/10000 (98%)\n",
            "Train Epoch: 9 [0/60000 (0%)] Loss: 0.199870\n",
            "Train Epoch: 9 [2000/60000 (3%)] Loss: 0.256004\n",
            "Train Epoch: 9 [4000/60000 (7%)] Loss: 0.254391\n",
            "Train Epoch: 9 [6000/60000 (10%)] Loss: 0.169284\n",
            "Train Epoch: 9 [8000/60000 (13%)] Loss: 0.265152\n",
            "Train Epoch: 9 [10000/60000 (17%)] Loss: 0.215007\n",
            "Train Epoch: 9 [12000/60000 (20%)] Loss: 0.091717\n",
            "Train Epoch: 9 [14000/60000 (23%)] Loss: 0.087108\n",
            "Train Epoch: 9 [16000/60000 (27%)] Loss: 0.095056\n",
            "Train Epoch: 9 [18000/60000 (30%)] Loss: 0.068603\n",
            "Train Epoch: 9 [20000/60000 (33%)] Loss: 0.136479\n",
            "Train Epoch: 9 [22000/60000 (37%)] Loss: 0.259807\n",
            "Train Epoch: 9 [24000/60000 (40%)] Loss: 0.204337\n",
            "Train Epoch: 9 [26000/60000 (43%)] Loss: 0.139277\n",
            "Train Epoch: 9 [28000/60000 (47%)] Loss: 0.145643\n",
            "Train Epoch: 9 [30000/60000 (50%)] Loss: 0.196356\n",
            "Train Epoch: 9 [32000/60000 (53%)] Loss: 0.162427\n",
            "Train Epoch: 9 [34000/60000 (57%)] Loss: 0.164130\n",
            "Train Epoch: 9 [36000/60000 (60%)] Loss: 0.112572\n",
            "Train Epoch: 9 [38000/60000 (63%)] Loss: 0.221048\n",
            "Train Epoch: 9 [40000/60000 (67%)] Loss: 0.148970\n",
            "Train Epoch: 9 [42000/60000 (70%)] Loss: 0.137276\n",
            "Train Epoch: 9 [44000/60000 (73%)] Loss: 0.189467\n",
            "Train Epoch: 9 [46000/60000 (77%)] Loss: 0.202820\n",
            "Train Epoch: 9 [48000/60000 (80%)] Loss: 0.098776\n",
            "Train Epoch: 9 [50000/60000 (83%)] Loss: 0.243226\n",
            "Train Epoch: 9 [52000/60000 (87%)] Loss: 0.224211\n",
            "Train Epoch: 9 [54000/60000 (90%)] Loss: 0.138218\n",
            "Train Epoch: 9 [56000/60000 (93%)] Loss: 0.079439\n",
            "Train Epoch: 9 [58000/60000 (97%)] Loss: 0.274954\n",
            "\n",
            "Test set: Average loss: 0.0005, Accuracy: 9857/10000 (99%)\n",
            "Train Epoch: 10 [0/60000 (0%)] Loss: 0.207846\n",
            "Train Epoch: 10 [2000/60000 (3%)] Loss: 0.114071\n",
            "Train Epoch: 10 [4000/60000 (7%)] Loss: 0.089475\n",
            "Train Epoch: 10 [6000/60000 (10%)] Loss: 0.195675\n",
            "Train Epoch: 10 [8000/60000 (13%)] Loss: 0.189498\n",
            "Train Epoch: 10 [10000/60000 (17%)] Loss: 0.092979\n",
            "Train Epoch: 10 [12000/60000 (20%)] Loss: 0.120990\n",
            "Train Epoch: 10 [14000/60000 (23%)] Loss: 0.090466\n",
            "Train Epoch: 10 [16000/60000 (27%)] Loss: 0.166756\n",
            "Train Epoch: 10 [18000/60000 (30%)] Loss: 0.128664\n",
            "Train Epoch: 10 [20000/60000 (33%)] Loss: 0.172111\n",
            "Train Epoch: 10 [22000/60000 (37%)] Loss: 0.289797\n",
            "Train Epoch: 10 [24000/60000 (40%)] Loss: 0.254119\n",
            "Train Epoch: 10 [26000/60000 (43%)] Loss: 0.150042\n",
            "Train Epoch: 10 [28000/60000 (47%)] Loss: 0.125902\n",
            "Train Epoch: 10 [30000/60000 (50%)] Loss: 0.071622\n",
            "Train Epoch: 10 [32000/60000 (53%)] Loss: 0.156420\n",
            "Train Epoch: 10 [34000/60000 (57%)] Loss: 0.121856\n",
            "Train Epoch: 10 [36000/60000 (60%)] Loss: 0.104839\n",
            "Train Epoch: 10 [38000/60000 (63%)] Loss: 0.073140\n",
            "Train Epoch: 10 [40000/60000 (67%)] Loss: 0.080221\n",
            "Train Epoch: 10 [42000/60000 (70%)] Loss: 0.148211\n",
            "Train Epoch: 10 [44000/60000 (73%)] Loss: 0.201384\n",
            "Train Epoch: 10 [46000/60000 (77%)] Loss: 0.180171\n",
            "Train Epoch: 10 [48000/60000 (80%)] Loss: 0.166299\n",
            "Train Epoch: 10 [50000/60000 (83%)] Loss: 0.082139\n",
            "Train Epoch: 10 [52000/60000 (87%)] Loss: 0.134721\n",
            "Train Epoch: 10 [54000/60000 (90%)] Loss: 0.125974\n",
            "Train Epoch: 10 [56000/60000 (93%)] Loss: 0.135573\n",
            "Train Epoch: 10 [58000/60000 (97%)] Loss: 0.084638\n",
            "\n",
            "Test set: Average loss: 0.0005, Accuracy: 9865/10000 (99%)\n"
          ]
        }
      ]
    },
    {
      "cell_type": "code",
      "source": [
        "import matplotlib.pyplot as plt\n",
        "\n",
        "model.eval()\n",
        "\n",
        "data,target = test_data[0]\n",
        "\n",
        "data  = data.unsqueeze(0)\n",
        "\n",
        "output = model(data)\n",
        "\n",
        "prediction = output.argmax(dim=1, keepdim=True)\n",
        "\n",
        "print(f'Prediction: {prediction}')\n",
        "\n",
        "image = data.squeeze(0).squeeze(0).cpu().numpy()\n",
        "plt.imshow(image, cmap='gray')\n",
        "plt.show()\n"
      ],
      "metadata": {
        "colab": {
          "base_uri": "https://localhost:8080/",
          "height": 447
        },
        "id": "3MwtXSMI7SLm",
        "outputId": "f6e3503c-35c1-455e-c421-a1c2956812d9"
      },
      "execution_count": 46,
      "outputs": [
        {
          "output_type": "stream",
          "name": "stdout",
          "text": [
            "Prediction: tensor([[7]])\n"
          ]
        },
        {
          "output_type": "display_data",
          "data": {
            "text/plain": [
              "<Figure size 640x480 with 1 Axes>"
            ],
            "image/png": "[encoded data removed]"
          },
          "metadata": {}
        }
      ]
    }
  ]
}